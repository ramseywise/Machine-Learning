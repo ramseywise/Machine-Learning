{
 "cells": [
  {
   "cell_type": "markdown",
   "metadata": {},
   "source": [
    "# Multivariate Linear Regression"
   ]
  },
  {
   "cell_type": "code",
   "execution_count": 1,
   "metadata": {
    "collapsed": true
   },
   "outputs": [],
   "source": [
    "# Import libraries\n",
    "get_ipython().magic('matplotlib inline')\n",
    "import numpy as np\n",
    "import pandas as pd\n",
    "from matplotlib import cm\n",
    "import matplotlib.pyplot as plt\n",
    "from mpl_toolkits.mplot3d import axes3d, Axes3D\n",
    "from numpy.linalg import inv\n",
    "import itertools"
   ]
  },
  {
   "cell_type": "code",
   "execution_count": 2,
   "metadata": {
    "collapsed": true
   },
   "outputs": [],
   "source": [
    "# Read in data\n",
    "datafile = '/Users/wiseer85/Documents/Data Science/ML Exercises/data/ex1data2.txt'\n",
    "cols = np.loadtxt(datafile,delimiter=',',usecols=(0,1,2),unpack=True) #Read in comma separated data"
   ]
  },
  {
   "cell_type": "code",
   "execution_count": 3,
   "metadata": {
    "collapsed": true
   },
   "outputs": [],
   "source": [
    "# Define X,Y Matrix\n",
    "X = np.transpose(np.array(cols[:-1]))\n",
    "y = np.transpose(np.array(cols[-1:]))\n",
    "m = y.size # number of training examples\n",
    "#Insert the usual column of 1's into the \"X\" matrix\n",
    "X = np.insert(X,0,1,axis=1)"
   ]
  },
  {
   "cell_type": "code",
   "execution_count": 4,
   "metadata": {},
   "outputs": [
    {
     "data": {
      "image/png": "[encoded data removed]",
      "text/plain": [
       "<matplotlib.figure.Figure at 0x115082518>"
      ]
     },
     "metadata": {},
     "output_type": "display_data"
    }
   ],
   "source": [
    "# Visualize data\n",
    "plt.grid(True)\n",
    "plt.xlim([-100,5000])\n",
    "dummy = plt.hist(X[:,0],label = 'col1')\n",
    "dummy = plt.hist(X[:,1],label = 'col2')\n",
    "dummy = plt.hist(X[:,2],label = 'col3')\n",
    "plt.title('Clearly we need feature normalization.')\n",
    "plt.xlabel('Column Value')\n",
    "plt.ylabel('Counts')\n",
    "dummy = plt.legend()"
   ]
  },
  {
   "cell_type": "code",
   "execution_count": 5,
   "metadata": {},
   "outputs": [
    {
     "data": {
      "image/png": "[encoded data removed]",
      "text/plain": [
       "<matplotlib.figure.Figure at 0x11aebfb00>"
      ]
     },
     "metadata": {},
     "output_type": "display_data"
    }
   ],
   "source": [
    "#Normalizing  columns (subtract mean, divide by standard deviation)\n",
    "stored_feature_means, stored_feature_stds = [], []\n",
    "Xnorm = X.copy()\n",
    "for icol in range(Xnorm.shape[1]):\n",
    "    stored_feature_means.append(np.mean(Xnorm[:,icol]))\n",
    "    stored_feature_stds.append(np.std(Xnorm[:,icol]))\n",
    "    if not icol: continue\n",
    "    Xnorm[:,icol] = (Xnorm[:,icol] - stored_feature_means[-1])/stored_feature_stds[-1]\n",
    "\n",
    "#Check for normalization\n",
    "plt.grid(True)\n",
    "plt.xlim([-5,5])\n",
    "dummy = plt.hist(Xnorm[:,0],label = 'col1')\n",
    "dummy = plt.hist(Xnorm[:,1],label = 'col2')\n",
    "dummy = plt.hist(Xnorm[:,2],label = 'col3')\n",
    "plt.title('Feature Normalization Accomplished')\n",
    "plt.xlabel('Column Value')\n",
    "plt.ylabel('Counts')\n",
    "dummy = plt.legend()"
   ]
  },
  {
   "cell_type": "code",
   "execution_count": 6,
   "metadata": {},
   "outputs": [
    {
     "data": {
      "text/plain": [
       "65591548106.45744"
      ]
     },
     "execution_count": 6,
     "metadata": {},
     "output_type": "execute_result"
    }
   ],
   "source": [
    "# Hypothesis function\n",
    "def h(theta, X):\n",
    "    return np.dot(X, theta)\n",
    "\n",
    "# Cost function\n",
    "def compute_cost(theta,X,y,m):\n",
    "    return float((1./(2*m)) * np.dot((h(theta,X)-y).T,(h(theta,X)-y)))\n",
    "\n",
    "# Calculate costs\n",
    "initial_theta = np.zeros((Xnorm.shape[1], 1))\n",
    "m = y.size\n",
    "compute_cost(initial_theta, Xnorm, y, m)"
   ]
  },
  {
   "cell_type": "code",
   "execution_count": 7,
   "metadata": {},
   "outputs": [
    {
     "data": {
      "text/plain": [
       "array([[  3.40412660e+05],\n",
       "       [ -2.01110565e-11],\n",
       "       [  1.28725623e-10]])"
      ]
     },
     "execution_count": 7,
     "metadata": {},
     "output_type": "execute_result"
    }
   ],
   "source": [
    "# Run gradient descent with multiple variables and plot convergence\n",
    "def gradientDescentMulti(X, y, theta, alpha, num_iters,n):\n",
    "    for i in range(num_iters):\n",
    "        theta_new = theta\n",
    "        for j in range(n):\n",
    "            theta_new[j] = theta[j] - ((alpha / m) * np.sum((h(theta, X)-y) * X[:,j]))\n",
    "        theta = theta_new\n",
    "    return theta\n",
    "\n",
    "gradientDescentMulti(Xnorm,y, initial_theta, 0.01, 400,3)"
   ]
  },
  {
   "cell_type": "code",
   "execution_count": 8,
   "metadata": {},
   "outputs": [
    {
     "name": "stdout",
     "output_type": "stream",
     "text": [
      "Normal equation prediction for price of house with 1650 square feet and 3 bedrooms\n",
      "$293081.46\n"
     ]
    }
   ],
   "source": [
    "# Normal equation prediction\n",
    "def normEqtn(X,y):\n",
    "    #restheta = np.zeros((X.shape[1],1))\n",
    "    return np.dot(np.dot(inv(np.dot(X.T,X)),X.T),y)\n",
    "\n",
    "print(\"Normal equation prediction for price of house with 1650 square feet and 3 bedrooms\")\n",
    "print(\"$%0.2f\" % float(h(normEqtn(X,y),[1,1650.,3])))"
   ]
  }
 ],
 "metadata": {
  "kernelspec": {
   "display_name": "Python 3",
   "language": "python",
   "name": "python3"
  },
  "language_info": {
   "codemirror_mode": {
    "name": "ipython",
    "version": 3
   },
   "file_extension": ".py",
   "mimetype": "text/x-python",
   "name": "python",
   "nbconvert_exporter": "python",
   "pygments_lexer": "ipython3",
   "version": "3.6.2"
  }
 },
 "nbformat": 4,
 "nbformat_minor": 2
}
